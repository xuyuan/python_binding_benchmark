{
 "metadata": {
  "name": "",
  "signature": "sha256:5d2650219df11a8fef7f4505d8ff9cf6e7e49e4622b5ed56f2040bf221033db1"
 },
 "nbformat": 3,
 "nbformat_minor": 0,
 "worksheets": [
  {
   "cells": [
    {
     "cell_type": "markdown",
     "metadata": {},
     "source": [
      "# Build"
     ]
    },
    {
     "cell_type": "code",
     "collapsed": false,
     "input": [
      "%%bash\n",
      "CXX=\"g++ -O2 -g -Wall -Werror -fpic -I/usr/include/python2.7 -shared\"\n",
      "\n",
      "# PyBindGen\n",
      "python testapi-pybindgen.py > testapimodule.cc\n",
      "${CXX} -o testapi_pybindgen.so testapi.cc testapimodule.cc\n",
      "\n",
      "# Boost::Python\n",
      "${CXX} -o testapi_boost.so testapi.cc testapi_boost.cc -lboost_python\n",
      "\n",
      "# SWIG\n",
      "swig  -c++ -o testapi_swig_module.cc -python testapi_swig.i\n",
      "${CXX} -o _testapi_swig.so testapi.cc testapi_swig_module.cc\n",
      "\n",
      "# SIP\n",
      "sip -c ./ testapi.sip\n",
      "${CXX} -o testapi_sip.so testapi.cc siptestapi_sipcmodule.cpp siptestapi_sipMultiplier.cpp\n",
      "\n",
      "# Cython\n",
      "cython --cplus testapi_cython.pyx\n",
      "${CXX} -o testapi_cython.so testapi.cc testapi_cython.cpp"
     ],
     "language": "python",
     "metadata": {},
     "outputs": [],
     "prompt_number": 30
    },
    {
     "cell_type": "markdown",
     "metadata": {},
     "source": [
      "# Run benchmark"
     ]
    },
    {
     "cell_type": "code",
     "collapsed": false,
     "input": [
      "%run bench.py result.xml \"-O2 -g\""
     ],
     "language": "python",
     "metadata": {},
     "outputs": [
      {
       "output_type": "stream",
       "stream": "stdout",
       "text": [
        "pybindgen results:\n",
        "test (call function with no arguments): 1.125014066696167"
       ]
      },
      {
       "output_type": "stream",
       "stream": "stdout",
       "text": [
        "\n",
        "test (call function taking 3 doubles): 2.375495195388794"
       ]
      },
      {
       "output_type": "stream",
       "stream": "stdout",
       "text": [
        "\n",
        "test (call class constructor with no arguments): 2.1286158561706543"
       ]
      },
      {
       "output_type": "stream",
       "stream": "stdout",
       "text": [
        "\n",
        "test (call class constructor with double): 8.720119953155518"
       ]
      },
      {
       "output_type": "stream",
       "stream": "stdout",
       "text": [
        "\n",
        "test (call simple method): 1.391880989074707"
       ]
      },
      {
       "output_type": "stream",
       "stream": "stdout",
       "text": [
        "\n",
        "test (call overloaded method 1): 5.6159679889678955"
       ]
      },
      {
       "output_type": "stream",
       "stream": "stdout",
       "text": [
        "\n",
        "test (call overloaded method 2): 1.8906118869781494"
       ]
      },
      {
       "output_type": "stream",
       "stream": "stdout",
       "text": [
        "\n",
        "test (call non-overridden virtual method with double): 2.116676092147827"
       ]
      },
      {
       "output_type": "stream",
       "stream": "stdout",
       "text": [
        "\n",
        "test (call python-overridden virtual method from Python): 1.2013821601867676"
       ]
      },
      {
       "output_type": "stream",
       "stream": "stdout",
       "text": [
        "\n",
        "test (call python-overridden virtual method from C++): 3.1161749362945557"
       ]
      },
      {
       "output_type": "stream",
       "stream": "stdout",
       "text": [
        "\n",
        "boost_python results:\n",
        "test (call function with no arguments): 1.4744369983673096"
       ]
      },
      {
       "output_type": "stream",
       "stream": "stdout",
       "text": [
        "\n",
        "test (call function taking 3 doubles): 2.331690788269043"
       ]
      },
      {
       "output_type": "stream",
       "stream": "stdout",
       "text": [
        "\n",
        "test (call class constructor with no arguments): 6.1049041748046875"
       ]
      },
      {
       "output_type": "stream",
       "stream": "stdout",
       "text": [
        "\n",
        "test (call class constructor with double): 6.92284893989563"
       ]
      },
      {
       "output_type": "stream",
       "stream": "stdout",
       "text": [
        "\n",
        "test (call simple method): 2.9569268226623535"
       ]
      },
      {
       "output_type": "stream",
       "stream": "stdout",
       "text": [
        "\n",
        "test (call overloaded method 1): 3.035700798034668"
       ]
      },
      {
       "output_type": "stream",
       "stream": "stdout",
       "text": [
        "\n",
        "test (call overloaded method 2): 3.0438649654388428"
       ]
      },
      {
       "output_type": "stream",
       "stream": "stdout",
       "text": [
        "\n",
        "test (call non-overridden virtual method with double): 2.594801187515259"
       ]
      },
      {
       "output_type": "stream",
       "stream": "stdout",
       "text": [
        "\n",
        "test (call python-overridden virtual method from Python): 1.5429179668426514"
       ]
      },
      {
       "output_type": "stream",
       "stream": "stdout",
       "text": [
        "\n",
        "test (call python-overridden virtual method from C++): 3.3012189865112305"
       ]
      },
      {
       "output_type": "stream",
       "stream": "stdout",
       "text": [
        "\n",
        "swig results:\n",
        "test (call function with no arguments): 1.4690451622009277"
       ]
      },
      {
       "output_type": "stream",
       "stream": "stdout",
       "text": [
        "\n",
        "test (call function taking 3 doubles): 2.4489030838012695"
       ]
      },
      {
       "output_type": "stream",
       "stream": "stdout",
       "text": [
        "\n",
        "test (call class constructor with no arguments): 51.20980882644653"
       ]
      },
      {
       "output_type": "stream",
       "stream": "stdout",
       "text": [
        "\n",
        "test (call class constructor with double): 62.74170899391174"
       ]
      },
      {
       "output_type": "stream",
       "stream": "stdout",
       "text": [
        "\n",
        "test (call simple method): 5.54270601272583"
       ]
      },
      {
       "output_type": "stream",
       "stream": "stdout",
       "text": [
        "\n",
        "test (call overloaded method 1): 5.562104940414429"
       ]
      },
      {
       "output_type": "stream",
       "stream": "stdout",
       "text": [
        "\n",
        "test (call overloaded method 2): 6.408900022506714"
       ]
      },
      {
       "output_type": "stream",
       "stream": "stdout",
       "text": [
        "\n",
        "test (call non-overridden virtual method with double): 7.509788990020752"
       ]
      },
      {
       "output_type": "stream",
       "stream": "stdout",
       "text": [
        "\n",
        "test (call python-overridden virtual method from Python): 2.1093058586120605"
       ]
      },
      {
       "output_type": "stream",
       "stream": "stdout",
       "text": [
        "\n",
        "test (call python-overridden virtual method from C++): 3.8422679901123047"
       ]
      },
      {
       "output_type": "stream",
       "stream": "stdout",
       "text": [
        "\n",
        "sip results:\n",
        "test (call function with no arguments): 2.112436056137085"
       ]
      },
      {
       "output_type": "stream",
       "stream": "stdout",
       "text": [
        "\n",
        "test (call function taking 3 doubles): 4.19792914390564"
       ]
      },
      {
       "output_type": "stream",
       "stream": "stdout",
       "text": [
        "\n",
        "test (call class constructor with no arguments): 5.388163089752197"
       ]
      },
      {
       "output_type": "stream",
       "stream": "stdout",
       "text": [
        "\n",
        "test (call class constructor with double): 8.56859803199768"
       ]
      },
      {
       "output_type": "stream",
       "stream": "stdout",
       "text": [
        "\n",
        "test (call simple method): 1.869739055633545"
       ]
      },
      {
       "output_type": "stream",
       "stream": "stdout",
       "text": [
        "\n",
        "test (call overloaded method 1): 4.858757972717285"
       ]
      },
      {
       "output_type": "stream",
       "stream": "stdout",
       "text": [
        "\n",
        "test (call overloaded method 2): 4.171832084655762"
       ]
      },
      {
       "output_type": "stream",
       "stream": "stdout",
       "text": [
        "\n",
        "test (call non-overridden virtual method with double): 3.0069761276245117"
       ]
      },
      {
       "output_type": "stream",
       "stream": "stdout",
       "text": [
        "\n",
        "test (call python-overridden virtual method from Python): 1.4865138530731201"
       ]
      },
      {
       "output_type": "stream",
       "stream": "stdout",
       "text": [
        "\n",
        "test (call python-overridden virtual method from C++): 3.0540101528167725"
       ]
      },
      {
       "output_type": "stream",
       "stream": "stdout",
       "text": [
        "\n",
        "cython results:\n",
        "test (call function with no arguments): 1.0775020122528076"
       ]
      },
      {
       "output_type": "stream",
       "stream": "stdout",
       "text": [
        "\n",
        "test (call function taking 3 doubles): 1.5302808284759521"
       ]
      },
      {
       "output_type": "stream",
       "stream": "stdout",
       "text": [
        "\n",
        "test (call class constructor with no arguments): 2.342258930206299"
       ]
      },
      {
       "output_type": "stream",
       "stream": "stdout",
       "text": [
        "\n",
        "test (call class constructor with double): 2.3834280967712402"
       ]
      },
      {
       "output_type": "stream",
       "stream": "stdout",
       "text": [
        "\n",
        "test (call simple method): 1.2569820880889893"
       ]
      },
      {
       "output_type": "stream",
       "stream": "stdout",
       "text": [
        "\n",
        "test (call overloaded method 1): 1.3224010467529297"
       ]
      },
      {
       "output_type": "stream",
       "stream": "stdout",
       "text": [
        "\n",
        "test (call overloaded method 2): 1.5432779788970947"
       ]
      },
      {
       "output_type": "stream",
       "stream": "stdout",
       "text": [
        "\n",
        "test (call non-overridden virtual method with double): 1.413595199584961"
       ]
      },
      {
       "output_type": "stream",
       "stream": "stdout",
       "text": [
        "\n",
        "test (call python-overridden virtual method from Python): 1.1116960048675537"
       ]
      },
      {
       "output_type": "stream",
       "stream": "stdout",
       "text": [
        "\n",
        "test (call python-overridden virtual method from C++): 0.43268394470214844"
       ]
      },
      {
       "output_type": "stream",
       "stream": "stdout",
       "text": [
        "\n"
       ]
      }
     ],
     "prompt_number": 31
    },
    {
     "cell_type": "code",
     "collapsed": false,
     "input": [
      "%run plotresults.py result.xml result"
     ],
     "language": "python",
     "metadata": {},
     "outputs": [],
     "prompt_number": 32
    },
    {
     "cell_type": "markdown",
     "metadata": {},
     "source": [
      "Click [result](result/index.html)"
     ]
    },
    {
     "cell_type": "code",
     "collapsed": false,
     "input": [],
     "language": "python",
     "metadata": {},
     "outputs": []
    }
   ],
   "metadata": {}
  }
 ]
}