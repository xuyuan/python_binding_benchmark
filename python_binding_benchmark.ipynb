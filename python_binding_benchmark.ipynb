{
 "metadata": {
  "name": "",
  "signature": "sha256:b6485a35950c16f98e03604d8fa317e041086eed197ddbad9f9271663d1b24b9"
 },
 "nbformat": 3,
 "nbformat_minor": 0,
 "worksheets": [
  {
   "cells": [
    {
     "cell_type": "markdown",
     "metadata": {},
     "source": [
      "# Build"
     ]
    },
    {
     "cell_type": "code",
     "collapsed": false,
     "input": [
      "%%bash\n",
      "CXX=\"g++ -O2 -g -Wall -Werror -fpic -I/usr/include/python2.7 -shared\"\n",
      "\n",
      "# PyBindGen\n",
      "python testapi-pybindgen.py > testapimodule.cc\n",
      "${CXX} -o testapi_pybindgen.so testapi.cc testapimodule.cc\n",
      "\n",
      "# Boost::Python\n",
      "${CXX} -o testapi_boost.so testapi.cc testapi_boost.cc -lboost_python\n",
      "\n",
      "# SWIG\n",
      "swig  -c++ -o testapi_swig_module.cc -python testapi_swig.i\n",
      "${CXX} -o _testapi_swig.so testapi.cc testapi_swig_module.cc\n",
      "\n",
      "# SIP\n",
      "sip -c ./ testapi.sip\n",
      "${CXX} -o testapi_sip.so testapi.cc siptestapi_sipcmodule.cpp siptestapi_sipMultiplier.cpp"
     ],
     "language": "python",
     "metadata": {},
     "outputs": [],
     "prompt_number": 24
    },
    {
     "cell_type": "markdown",
     "metadata": {},
     "source": [
      "# Run benchmark"
     ]
    },
    {
     "cell_type": "code",
     "collapsed": false,
     "input": [
      "%run bench.py result.xml \"-O2 -g\""
     ],
     "language": "python",
     "metadata": {},
     "outputs": [
      {
       "output_type": "stream",
       "stream": "stdout",
       "text": [
        "pybindgen results:\n",
        "test (call function with no arguments): 1.1371619701385498"
       ]
      },
      {
       "output_type": "stream",
       "stream": "stdout",
       "text": [
        "\n",
        "test (call function taking 3 doubles): 2.4281749725341797"
       ]
      },
      {
       "output_type": "stream",
       "stream": "stdout",
       "text": [
        "\n",
        "test (call class constructor with no arguments): 2.4675450325012207"
       ]
      },
      {
       "output_type": "stream",
       "stream": "stdout",
       "text": [
        "\n",
        "test (call class constructor with double): 6.711143970489502"
       ]
      },
      {
       "output_type": "stream",
       "stream": "stdout",
       "text": [
        "\n",
        "test (call simple method): 1.5005829334259033"
       ]
      },
      {
       "output_type": "stream",
       "stream": "stdout",
       "text": [
        "\n",
        "test (call overloaded method 1): 4.155841112136841"
       ]
      },
      {
       "output_type": "stream",
       "stream": "stdout",
       "text": [
        "\n",
        "test (call overloaded method 2): 1.8909149169921875"
       ]
      },
      {
       "output_type": "stream",
       "stream": "stdout",
       "text": [
        "\n",
        "test (call non-overridden virtual method with double): 2.1038191318511963"
       ]
      },
      {
       "output_type": "stream",
       "stream": "stdout",
       "text": [
        "\n",
        "test (call python-overridden virtual method from Python): 1.185917854309082"
       ]
      },
      {
       "output_type": "stream",
       "stream": "stdout",
       "text": [
        "\n",
        "test (call python-overridden virtual method from C++): 3.022844076156616"
       ]
      },
      {
       "output_type": "stream",
       "stream": "stdout",
       "text": [
        "\n",
        "boost_python results:\n",
        "test (call function with no arguments): 1.4615600109100342"
       ]
      },
      {
       "output_type": "stream",
       "stream": "stdout",
       "text": [
        "\n",
        "test (call function taking 3 doubles): 2.227130889892578"
       ]
      },
      {
       "output_type": "stream",
       "stream": "stdout",
       "text": [
        "\n",
        "test (call class constructor with no arguments): 6.22730278968811"
       ]
      },
      {
       "output_type": "stream",
       "stream": "stdout",
       "text": [
        "\n",
        "test (call class constructor with double): 6.997045040130615"
       ]
      },
      {
       "output_type": "stream",
       "stream": "stdout",
       "text": [
        "\n",
        "test (call simple method): 2.87703800201416"
       ]
      },
      {
       "output_type": "stream",
       "stream": "stdout",
       "text": [
        "\n",
        "test (call overloaded method 1): 2.958601951599121"
       ]
      },
      {
       "output_type": "stream",
       "stream": "stdout",
       "text": [
        "\n",
        "test (call overloaded method 2): 3.1763219833374023"
       ]
      },
      {
       "output_type": "stream",
       "stream": "stdout",
       "text": [
        "\n",
        "test (call non-overridden virtual method with double): 2.5165510177612305"
       ]
      },
      {
       "output_type": "stream",
       "stream": "stdout",
       "text": [
        "\n",
        "test (call python-overridden virtual method from Python): 1.3930511474609375"
       ]
      },
      {
       "output_type": "stream",
       "stream": "stdout",
       "text": [
        "\n",
        "test (call python-overridden virtual method from C++): 3.179961919784546"
       ]
      },
      {
       "output_type": "stream",
       "stream": "stdout",
       "text": [
        "\n",
        "swig results:\n",
        "test (call function with no arguments): 1.3511769771575928"
       ]
      },
      {
       "output_type": "stream",
       "stream": "stdout",
       "text": [
        "\n",
        "test (call function taking 3 doubles): 2.2315988540649414"
       ]
      },
      {
       "output_type": "stream",
       "stream": "stdout",
       "text": [
        "\n",
        "test (call class constructor with no arguments): 52.95554995536804"
       ]
      },
      {
       "output_type": "stream",
       "stream": "stdout",
       "text": [
        "\n",
        "test (call class constructor with double): 59.599579095840454"
       ]
      },
      {
       "output_type": "stream",
       "stream": "stdout",
       "text": [
        "\n",
        "test (call simple method): 3.8350179195404053"
       ]
      },
      {
       "output_type": "stream",
       "stream": "stdout",
       "text": [
        "\n",
        "test (call overloaded method 1): 6.428094148635864"
       ]
      },
      {
       "output_type": "stream",
       "stream": "stdout",
       "text": [
        "\n",
        "test (call overloaded method 2): 5.602816104888916"
       ]
      },
      {
       "output_type": "stream",
       "stream": "stdout",
       "text": [
        "\n",
        "test (call non-overridden virtual method with double): 4.6888110637664795"
       ]
      },
      {
       "output_type": "stream",
       "stream": "stdout",
       "text": [
        "\n",
        "test (call python-overridden virtual method from Python): 3.3473751544952393"
       ]
      },
      {
       "output_type": "stream",
       "stream": "stdout",
       "text": [
        "\n",
        "test (call python-overridden virtual method from C++): 4.579927206039429"
       ]
      },
      {
       "output_type": "stream",
       "stream": "stdout",
       "text": [
        "\n",
        "sip results:\n",
        "test (call function with no arguments): 1.8898899555206299"
       ]
      },
      {
       "output_type": "stream",
       "stream": "stdout",
       "text": [
        "\n",
        "test (call function taking 3 doubles): 2.6068480014801025"
       ]
      },
      {
       "output_type": "stream",
       "stream": "stdout",
       "text": [
        "\n",
        "test (call class constructor with no arguments): 4.562607049942017"
       ]
      },
      {
       "output_type": "stream",
       "stream": "stdout",
       "text": [
        "\n",
        "test (call class constructor with double): 8.57718801498413"
       ]
      },
      {
       "output_type": "stream",
       "stream": "stdout",
       "text": [
        "\n",
        "test (call simple method): 3.40289306640625"
       ]
      },
      {
       "output_type": "stream",
       "stream": "stdout",
       "text": [
        "\n",
        "test (call overloaded method 1): 4.7763519287109375"
       ]
      },
      {
       "output_type": "stream",
       "stream": "stdout",
       "text": [
        "\n",
        "test (call overloaded method 2): 2.8832719326019287"
       ]
      },
      {
       "output_type": "stream",
       "stream": "stdout",
       "text": [
        "\n",
        "test (call non-overridden virtual method with double): 2.542046070098877"
       ]
      },
      {
       "output_type": "stream",
       "stream": "stdout",
       "text": [
        "\n",
        "test (call python-overridden virtual method from Python): 1.4986679553985596"
       ]
      },
      {
       "output_type": "stream",
       "stream": "stdout",
       "text": [
        "\n",
        "test (call python-overridden virtual method from C++): 4.81919002532959"
       ]
      },
      {
       "output_type": "stream",
       "stream": "stdout",
       "text": [
        "\n"
       ]
      }
     ],
     "prompt_number": 25
    },
    {
     "cell_type": "code",
     "collapsed": false,
     "input": [
      "%run plotresults.py result.xml result"
     ],
     "language": "python",
     "metadata": {},
     "outputs": [],
     "prompt_number": 29
    },
    {
     "cell_type": "markdown",
     "metadata": {},
     "source": [
      "[result](result/index.html)"
     ]
    },
    {
     "cell_type": "code",
     "collapsed": false,
     "input": [],
     "language": "python",
     "metadata": {},
     "outputs": []
    }
   ],
   "metadata": {}
  }
 ]
}